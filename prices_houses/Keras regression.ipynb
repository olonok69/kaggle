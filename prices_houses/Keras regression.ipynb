{
 "cells": [
  {
   "cell_type": "code",
   "execution_count": 30,
   "metadata": {},
   "outputs": [],
   "source": [
    "import numpy\n",
    "import pandas as pd\n",
    "from keras.models import Sequential\n",
    "from keras.layers import Dense\n",
    "from keras.wrappers.scikit_learn import KerasRegressor\n",
    "from sklearn.preprocessing import LabelEncoder\n",
    "from sklearn.base import BaseEstimator, TransformerMixin\n",
    "from sklearn.preprocessing import LabelBinarizer\n",
    "from sklearn.model_selection import cross_val_score\n",
    "from sklearn.model_selection import KFold\n",
    "from sklearn.preprocessing import StandardScaler\n",
    "from sklearn.pipeline import Pipeline"
   ]
  },
  {
   "cell_type": "code",
   "execution_count": 31,
   "metadata": {},
   "outputs": [],
   "source": [
    "train = pd.read_csv(\"train.csv\")"
   ]
  },
  {
   "cell_type": "code",
   "execution_count": 32,
   "metadata": {},
   "outputs": [],
   "source": [
    "trainN=[key for key in dict(train.dtypes) if dict(train.dtypes)[key] in ['float64', 'int64']]\n",
    "trainS=[key for key in dict(train.dtypes) if dict(train.dtypes)[key] in ['object']]"
   ]
  },
  {
   "cell_type": "code",
   "execution_count": 33,
   "metadata": {},
   "outputs": [],
   "source": [
    "class preprocessing (BaseEstimator, TransformerMixin):\n",
    "      def __init__ (self, df):\n",
    "         self.datatypes = df.dtypes.astype(str)\n",
    "         self.catcolumns = []\n",
    "         self.cat_encoders = []\n",
    "         self.encoded_df = []\n",
    "\n",
    "      def fit (self, df, y = None):\n",
    "          for ix, val in zip(self.datatypes.index.values, \n",
    "          self.datatypes.values):\n",
    "              if val =='object':\n",
    "                 self.catcolumns.append(ix)\n",
    "          fit_objs = [str(i) for i in range(len(self.catcolumns))]\n",
    "          for encs, name in zip(fit_objs,self.catcolumns):\n",
    "              encs = LabelBinarizer()\n",
    "              encs.fit(df[name])\n",
    "              self.cat_encoders.append((name, encs))\n",
    "          return self\n",
    "      def transform (self, df , y = None): \n",
    "          for name, encs in self.cat_encoders:\n",
    "              df_c = encs.transform(df[name])\n",
    "              self.encoded_df.append(pd.DataFrame(df_c))\n",
    "          self.encoded_df = pd.concat(self.encoded_df, axis = 1, \n",
    "          ignore_index \n",
    "          = True)\n",
    "          self.df_num = df.drop(self.catcolumns, axis = 1)\n",
    "          y = pd.concat([self.df_num, self.encoded_df], axis = 1, \n",
    "          ignore_index = True)\n",
    "          return y       "
   ]
  },
  {
   "cell_type": "code",
   "execution_count": 34,
   "metadata": {},
   "outputs": [],
   "source": [
    "train[trainS] = train[trainS].fillna('no_value')\n",
    "train.fillna(0,inplace=True)"
   ]
  },
  {
   "cell_type": "code",
   "execution_count": 35,
   "metadata": {},
   "outputs": [],
   "source": [
    "test=preprocessing(train)"
   ]
  },
  {
   "cell_type": "code",
   "execution_count": 36,
   "metadata": {},
   "outputs": [],
   "source": [
    "trained=test.fit(train)"
   ]
  },
  {
   "cell_type": "code",
   "execution_count": 37,
   "metadata": {},
   "outputs": [],
   "source": [
    "text=test.transform(train)"
   ]
  },
  {
   "cell_type": "code",
   "execution_count": 39,
   "metadata": {},
   "outputs": [
    {
     "data": {
      "text/plain": [
       "0        int64\n",
       "1        int64\n",
       "2      float64\n",
       "3        int64\n",
       "4        int64\n",
       "5        int64\n",
       "6        int64\n",
       "7        int64\n",
       "8      float64\n",
       "9        int64\n",
       "10       int64\n",
       "11       int64\n",
       "12       int64\n",
       "13       int64\n",
       "14       int64\n",
       "15       int64\n",
       "16       int64\n",
       "17       int64\n",
       "18       int64\n",
       "19       int64\n",
       "20       int64\n",
       "21       int64\n",
       "22       int64\n",
       "23       int64\n",
       "24       int64\n",
       "25     float64\n",
       "26       int64\n",
       "27       int64\n",
       "28       int64\n",
       "29       int64\n",
       "        ...   \n",
       "273      int32\n",
       "274      int32\n",
       "275      int32\n",
       "276      int32\n",
       "277      int32\n",
       "278      int32\n",
       "279      int32\n",
       "280      int32\n",
       "281      int32\n",
       "282      int32\n",
       "283      int32\n",
       "284      int32\n",
       "285      int32\n",
       "286      int32\n",
       "287      int32\n",
       "288      int32\n",
       "289      int32\n",
       "290      int32\n",
       "291      int32\n",
       "292      int32\n",
       "293      int32\n",
       "294      int32\n",
       "295      int32\n",
       "296      int32\n",
       "297      int32\n",
       "298      int32\n",
       "299      int32\n",
       "300      int32\n",
       "301      int32\n",
       "302      int32\n",
       "Length: 303, dtype: object"
      ]
     },
     "execution_count": 39,
     "metadata": {},
     "output_type": "execute_result"
    }
   ],
   "source": [
    "text.dtypes"
   ]
  }
 ],
 "metadata": {
  "kernelspec": {
   "display_name": "Python 3",
   "language": "python",
   "name": "python3"
  },
  "language_info": {
   "codemirror_mode": {
    "name": "ipython",
    "version": 3
   },
   "file_extension": ".py",
   "mimetype": "text/x-python",
   "name": "python",
   "nbconvert_exporter": "python",
   "pygments_lexer": "ipython3",
   "version": "3.5.6"
  }
 },
 "nbformat": 4,
 "nbformat_minor": 2
}
